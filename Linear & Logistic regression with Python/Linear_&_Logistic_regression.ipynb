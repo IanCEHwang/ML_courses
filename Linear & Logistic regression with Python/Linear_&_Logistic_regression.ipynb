{
 "cells": [
  {
   "cell_type": "code",
   "execution_count": 251,
   "id": "509c8c57",
   "metadata": {},
   "outputs": [],
   "source": [
    "import numpy as np\n",
    "from sklearn import datasets\n",
    "import pandas as pd\n",
    "from sklearn.linear_model import LogisticRegression, LinearRegression\n",
    "from sklearn.model_selection import train_test_split\n",
    "from sklearn.preprocessing import RobustScaler\n",
    "from sklearn.preprocessing import PolynomialFeatures\n",
    "from sklearn.metrics import confusion_matrix, classification_report\n",
    "import statsmodels.formula.api as smf\n",
    "import statsmodels.api as sm\n",
    "from scipy import stats\n",
    "from sklearn.metrics import r2_score\n",
    "import math\n",
    "from statsmodels.graphics.factorplots import interaction_plot\n",
    "import matplotlib.pyplot as plt"
   ]
  },
  {
   "cell_type": "markdown",
   "id": "71fc725b",
   "metadata": {},
   "source": [
    "## 1. Using the sales.csv Download sales.csv, write code to show effects of interactions, if any, on the linear regression model to predict the total_sales for a new area using given sales from three areas."
   ]
  },
  {
   "cell_type": "markdown",
   "id": "f690dff3",
   "metadata": {},
   "source": [
    "### reading data from csv and getting simple insights"
   ]
  },
  {
   "cell_type": "code",
   "execution_count": 15,
   "id": "3e7bee1c",
   "metadata": {
    "scrolled": true
   },
   "outputs": [
    {
     "data": {
      "text/html": [
       "<div>\n",
       "<style scoped>\n",
       "    .dataframe tbody tr th:only-of-type {\n",
       "        vertical-align: middle;\n",
       "    }\n",
       "\n",
       "    .dataframe tbody tr th {\n",
       "        vertical-align: top;\n",
       "    }\n",
       "\n",
       "    .dataframe thead th {\n",
       "        text-align: right;\n",
       "    }\n",
       "</style>\n",
       "<table border=\"1\" class=\"dataframe\">\n",
       "  <thead>\n",
       "    <tr style=\"text-align: right;\">\n",
       "      <th></th>\n",
       "      <th>Unnamed: 0</th>\n",
       "      <th>area1_sales</th>\n",
       "      <th>area2_sales</th>\n",
       "      <th>area3_sales</th>\n",
       "      <th>total_sales</th>\n",
       "    </tr>\n",
       "  </thead>\n",
       "  <tbody>\n",
       "    <tr>\n",
       "      <th>0</th>\n",
       "      <td>1000</td>\n",
       "      <td>0.79</td>\n",
       "      <td>0.80</td>\n",
       "      <td>0.02</td>\n",
       "      <td>1.75</td>\n",
       "    </tr>\n",
       "    <tr>\n",
       "      <th>1</th>\n",
       "      <td>1001</td>\n",
       "      <td>0.83</td>\n",
       "      <td>0.08</td>\n",
       "      <td>0.18</td>\n",
       "      <td>1.75</td>\n",
       "    </tr>\n",
       "    <tr>\n",
       "      <th>2</th>\n",
       "      <td>1002</td>\n",
       "      <td>0.85</td>\n",
       "      <td>0.01</td>\n",
       "      <td>0.22</td>\n",
       "      <td>1.75</td>\n",
       "    </tr>\n",
       "    <tr>\n",
       "      <th>3</th>\n",
       "      <td>1003</td>\n",
       "      <td>1.25</td>\n",
       "      <td>0.00</td>\n",
       "      <td>0.03</td>\n",
       "      <td>1.75</td>\n",
       "    </tr>\n",
       "    <tr>\n",
       "      <th>4</th>\n",
       "      <td>1004</td>\n",
       "      <td>0.72</td>\n",
       "      <td>0.04</td>\n",
       "      <td>0.10</td>\n",
       "      <td>1.74</td>\n",
       "    </tr>\n",
       "    <tr>\n",
       "      <th>...</th>\n",
       "      <td>...</td>\n",
       "      <td>...</td>\n",
       "      <td>...</td>\n",
       "      <td>...</td>\n",
       "      <td>...</td>\n",
       "    </tr>\n",
       "    <tr>\n",
       "      <th>2995</th>\n",
       "      <td>3995</td>\n",
       "      <td>0.20</td>\n",
       "      <td>0.00</td>\n",
       "      <td>0.07</td>\n",
       "      <td>0.49</td>\n",
       "    </tr>\n",
       "    <tr>\n",
       "      <th>2996</th>\n",
       "      <td>3996</td>\n",
       "      <td>0.28</td>\n",
       "      <td>0.00</td>\n",
       "      <td>0.04</td>\n",
       "      <td>0.49</td>\n",
       "    </tr>\n",
       "    <tr>\n",
       "      <th>2997</th>\n",
       "      <td>3997</td>\n",
       "      <td>0.00</td>\n",
       "      <td>0.49</td>\n",
       "      <td>0.00</td>\n",
       "      <td>0.49</td>\n",
       "    </tr>\n",
       "    <tr>\n",
       "      <th>2998</th>\n",
       "      <td>3998</td>\n",
       "      <td>0.07</td>\n",
       "      <td>0.09</td>\n",
       "      <td>0.07</td>\n",
       "      <td>0.49</td>\n",
       "    </tr>\n",
       "    <tr>\n",
       "      <th>2999</th>\n",
       "      <td>3999</td>\n",
       "      <td>0.24</td>\n",
       "      <td>0.00</td>\n",
       "      <td>0.06</td>\n",
       "      <td>0.49</td>\n",
       "    </tr>\n",
       "  </tbody>\n",
       "</table>\n",
       "<p>3000 rows × 5 columns</p>\n",
       "</div>"
      ],
      "text/plain": [
       "      Unnamed: 0  area1_sales  area2_sales  area3_sales  total_sales\n",
       "0           1000         0.79         0.80         0.02         1.75\n",
       "1           1001         0.83         0.08         0.18         1.75\n",
       "2           1002         0.85         0.01         0.22         1.75\n",
       "3           1003         1.25         0.00         0.03         1.75\n",
       "4           1004         0.72         0.04         0.10         1.74\n",
       "...          ...          ...          ...          ...          ...\n",
       "2995        3995         0.20         0.00         0.07         0.49\n",
       "2996        3996         0.28         0.00         0.04         0.49\n",
       "2997        3997         0.00         0.49         0.00         0.49\n",
       "2998        3998         0.07         0.09         0.07         0.49\n",
       "2999        3999         0.24         0.00         0.06         0.49\n",
       "\n",
       "[3000 rows x 5 columns]"
      ]
     },
     "execution_count": 15,
     "metadata": {},
     "output_type": "execute_result"
    }
   ],
   "source": [
    "sales = pd.read_csv(\"sales.csv\")\n",
    "sales"
   ]
  },
  {
   "cell_type": "code",
   "execution_count": 16,
   "id": "10c458dd",
   "metadata": {
    "scrolled": true
   },
   "outputs": [
    {
     "name": "stdout",
     "output_type": "stream",
     "text": [
      "<class 'pandas.core.frame.DataFrame'>\n",
      "RangeIndex: 3000 entries, 0 to 2999\n",
      "Data columns (total 5 columns):\n",
      " #   Column       Non-Null Count  Dtype  \n",
      "---  ------       --------------  -----  \n",
      " 0   Unnamed: 0   3000 non-null   int64  \n",
      " 1   area1_sales  3000 non-null   float64\n",
      " 2   area2_sales  3000 non-null   float64\n",
      " 3   area3_sales  3000 non-null   float64\n",
      " 4   total_sales  3000 non-null   float64\n",
      "dtypes: float64(4), int64(1)\n",
      "memory usage: 117.3 KB\n"
     ]
    }
   ],
   "source": [
    "sales.info()"
   ]
  },
  {
   "cell_type": "code",
   "execution_count": 76,
   "id": "f7476989",
   "metadata": {},
   "outputs": [
    {
     "data": {
      "text/plain": [
       "Index(['Unnamed: 0', 'area1_sales', 'area2_sales', 'area3_sales',\n",
       "       'total_sales'],\n",
       "      dtype='object')"
      ]
     },
     "execution_count": 76,
     "metadata": {},
     "output_type": "execute_result"
    }
   ],
   "source": [
    "sales.columns"
   ]
  },
  {
   "cell_type": "markdown",
   "id": "c7c74004",
   "metadata": {},
   "source": [
    "### Checking and Dropping null values from the Dataframe"
   ]
  },
  {
   "cell_type": "code",
   "execution_count": 77,
   "id": "2d18d41c",
   "metadata": {},
   "outputs": [
    {
     "data": {
      "text/plain": [
       "Unnamed: 0     0\n",
       "area1_sales    0\n",
       "area2_sales    0\n",
       "area3_sales    0\n",
       "total_sales    0\n",
       "dtype: int64"
      ]
     },
     "execution_count": 77,
     "metadata": {},
     "output_type": "execute_result"
    }
   ],
   "source": [
    "### No na values\n",
    "sales.isnull().sum()"
   ]
  },
  {
   "cell_type": "markdown",
   "id": "c7618fe2",
   "metadata": {},
   "source": [
    "### Create X and Y variable"
   ]
  },
  {
   "cell_type": "code",
   "execution_count": 78,
   "id": "e0ce403d",
   "metadata": {},
   "outputs": [],
   "source": [
    "Y = sales.iloc[:,-1]\n",
    "X = sales.iloc[:,1:-1]"
   ]
  },
  {
   "cell_type": "code",
   "execution_count": 79,
   "id": "b8b702da",
   "metadata": {},
   "outputs": [],
   "source": [
    "### create interactions \n",
    "poly = PolynomialFeatures(interaction_only=True,include_bias = False)\n",
    "X_with_interaction = poly.fit_transform(X)"
   ]
  },
  {
   "cell_type": "code",
   "execution_count": 80,
   "id": "c27d84ee",
   "metadata": {},
   "outputs": [],
   "source": [
    "### turn interaction array into dataframe\n",
    "X_with_interaction = pd.DataFrame(X_with_interaction , columns = X.columns.to_list() +\\\n",
    "                  ['area1 * area2' , 'area1 * area3' , 'area2 * area3'])"
   ]
  },
  {
   "cell_type": "markdown",
   "id": "f437feee",
   "metadata": {},
   "source": [
    "### Splitting data into train and test subsets"
   ]
  },
  {
   "cell_type": "code",
   "execution_count": 81,
   "id": "f000d852",
   "metadata": {},
   "outputs": [],
   "source": [
    "x_train , x_test , y_train , y_test = train_test_split(X_with_interaction ,Y,\\\n",
    "                                 test_size = 0.2 , random_state = 42)"
   ]
  },
  {
   "cell_type": "markdown",
   "id": "5fb71c9a",
   "metadata": {},
   "source": [
    "### Scaling data using Robust Scalar"
   ]
  },
  {
   "cell_type": "code",
   "execution_count": 82,
   "id": "c501e9c3",
   "metadata": {},
   "outputs": [],
   "source": [
    "ro_scaler=RobustScaler()\n",
    "x_train=ro_scaler.fit_transform(x_train)\n",
    "x_test=ro_scaler.fit_transform(x_test)"
   ]
  },
  {
   "cell_type": "markdown",
   "id": "a81fe8b9",
   "metadata": {},
   "source": [
    "### Linear Regression "
   ]
  },
  {
   "cell_type": "code",
   "execution_count": 98,
   "id": "e2cfd1c0",
   "metadata": {},
   "outputs": [
    {
     "data": {
      "text/plain": [
       "LinearRegression()"
      ]
     },
     "execution_count": 98,
     "metadata": {},
     "output_type": "execute_result"
    }
   ],
   "source": [
    "reg = LinearRegression()\n",
    "reg.fit(x_train , y_train)"
   ]
  },
  {
   "cell_type": "code",
   "execution_count": 101,
   "id": "bdd35668",
   "metadata": {
    "scrolled": false
   },
   "outputs": [
    {
     "name": "stdout",
     "output_type": "stream",
     "text": [
      "0.41847461223260074\n",
      "0.7487430366362523\n",
      "[0.27122599 0.0507416  0.0977987  0.00492406 0.03971215 0.00421028]\n"
     ]
    }
   ],
   "source": [
    "print(reg.score(x_test,y_test))\n",
    "print(reg.intercept_)\n",
    "print(reg.coef_)"
   ]
  },
  {
   "cell_type": "markdown",
   "id": "cafbffed",
   "metadata": {},
   "source": [
    "### Result from sklearn package"
   ]
  },
  {
   "cell_type": "code",
   "execution_count": 102,
   "id": "ee2513ff",
   "metadata": {
    "scrolled": true
   },
   "outputs": [
    {
     "data": {
      "text/html": [
       "<div>\n",
       "<style scoped>\n",
       "    .dataframe tbody tr th:only-of-type {\n",
       "        vertical-align: middle;\n",
       "    }\n",
       "\n",
       "    .dataframe tbody tr th {\n",
       "        vertical-align: top;\n",
       "    }\n",
       "\n",
       "    .dataframe thead th {\n",
       "        text-align: right;\n",
       "    }\n",
       "</style>\n",
       "<table border=\"1\" class=\"dataframe\">\n",
       "  <thead>\n",
       "    <tr style=\"text-align: right;\">\n",
       "      <th></th>\n",
       "      <th>Coefficient</th>\n",
       "    </tr>\n",
       "  </thead>\n",
       "  <tbody>\n",
       "    <tr>\n",
       "      <th>area1_sales</th>\n",
       "      <td>0.271226</td>\n",
       "    </tr>\n",
       "    <tr>\n",
       "      <th>area2_sales</th>\n",
       "      <td>0.050742</td>\n",
       "    </tr>\n",
       "    <tr>\n",
       "      <th>area3_sales</th>\n",
       "      <td>0.097799</td>\n",
       "    </tr>\n",
       "    <tr>\n",
       "      <th>area1 * area2</th>\n",
       "      <td>0.004924</td>\n",
       "    </tr>\n",
       "    <tr>\n",
       "      <th>area1 * area3</th>\n",
       "      <td>0.039712</td>\n",
       "    </tr>\n",
       "    <tr>\n",
       "      <th>area2 * area3</th>\n",
       "      <td>0.004210</td>\n",
       "    </tr>\n",
       "  </tbody>\n",
       "</table>\n",
       "</div>"
      ],
      "text/plain": [
       "               Coefficient\n",
       "area1_sales       0.271226\n",
       "area2_sales       0.050742\n",
       "area3_sales       0.097799\n",
       "area1 * area2     0.004924\n",
       "area1 * area3     0.039712\n",
       "area2 * area3     0.004210"
      ]
     },
     "execution_count": 102,
     "metadata": {},
     "output_type": "execute_result"
    }
   ],
   "source": [
    "result_df = pd.DataFrame(reg.coef_ , X_with_interaction.columns[:] , columns = ['Coefficient'])\n",
    "result_df"
   ]
  },
  {
   "cell_type": "markdown",
   "id": "26f0c23d",
   "metadata": {},
   "source": [
    "$ Total Sales = 0.2712 * area1\\_sales + 0.0507 * area2\\_sales + 0.0977 * area3\\_sales + 0.0049 * area1\\_sales * area2\\_sales + 0.0397 * area1\\_sales * area3\\_sales + 0.0042 * area2\\_sales * area3\\_sales + 0.7487 $"
   ]
  },
  {
   "cell_type": "markdown",
   "id": "f0bebc53",
   "metadata": {},
   "source": [
    "### 2. Develop a full Logistic Regression Model using customer.csv Download customer.csv to predict whether the customer will purchase the product. Also train trimmed logistic regression models (Trimmed over features in the data). Compute the \"in-sample R2\" (pseudo) for the models you train and compare the models based on this metric."
   ]
  },
  {
   "cell_type": "code",
   "execution_count": 90,
   "id": "de5f2cc9",
   "metadata": {},
   "outputs": [],
   "source": [
    "customer = pd.read_csv(\"customer.csv\")"
   ]
  },
  {
   "cell_type": "code",
   "execution_count": 92,
   "id": "47cdfbfa",
   "metadata": {},
   "outputs": [
    {
     "data": {
      "text/html": [
       "<div>\n",
       "<style scoped>\n",
       "    .dataframe tbody tr th:only-of-type {\n",
       "        vertical-align: middle;\n",
       "    }\n",
       "\n",
       "    .dataframe tbody tr th {\n",
       "        vertical-align: top;\n",
       "    }\n",
       "\n",
       "    .dataframe thead th {\n",
       "        text-align: right;\n",
       "    }\n",
       "</style>\n",
       "<table border=\"1\" class=\"dataframe\">\n",
       "  <thead>\n",
       "    <tr style=\"text-align: right;\">\n",
       "      <th></th>\n",
       "      <th>User ID</th>\n",
       "      <th>Gender</th>\n",
       "      <th>Age</th>\n",
       "      <th>EstimatedSalary</th>\n",
       "      <th>Purchased</th>\n",
       "    </tr>\n",
       "  </thead>\n",
       "  <tbody>\n",
       "    <tr>\n",
       "      <th>0</th>\n",
       "      <td>15624510</td>\n",
       "      <td>Male</td>\n",
       "      <td>19</td>\n",
       "      <td>19000</td>\n",
       "      <td>0</td>\n",
       "    </tr>\n",
       "    <tr>\n",
       "      <th>1</th>\n",
       "      <td>15810944</td>\n",
       "      <td>Male</td>\n",
       "      <td>35</td>\n",
       "      <td>20000</td>\n",
       "      <td>0</td>\n",
       "    </tr>\n",
       "    <tr>\n",
       "      <th>2</th>\n",
       "      <td>15668575</td>\n",
       "      <td>Female</td>\n",
       "      <td>26</td>\n",
       "      <td>43000</td>\n",
       "      <td>0</td>\n",
       "    </tr>\n",
       "    <tr>\n",
       "      <th>3</th>\n",
       "      <td>15603246</td>\n",
       "      <td>Female</td>\n",
       "      <td>27</td>\n",
       "      <td>57000</td>\n",
       "      <td>0</td>\n",
       "    </tr>\n",
       "    <tr>\n",
       "      <th>4</th>\n",
       "      <td>15804002</td>\n",
       "      <td>Male</td>\n",
       "      <td>19</td>\n",
       "      <td>76000</td>\n",
       "      <td>0</td>\n",
       "    </tr>\n",
       "  </tbody>\n",
       "</table>\n",
       "</div>"
      ],
      "text/plain": [
       "    User ID  Gender  Age  EstimatedSalary  Purchased\n",
       "0  15624510    Male   19            19000          0\n",
       "1  15810944    Male   35            20000          0\n",
       "2  15668575  Female   26            43000          0\n",
       "3  15603246  Female   27            57000          0\n",
       "4  15804002    Male   19            76000          0"
      ]
     },
     "execution_count": 92,
     "metadata": {},
     "output_type": "execute_result"
    }
   ],
   "source": [
    "customer.head()"
   ]
  },
  {
   "cell_type": "code",
   "execution_count": 93,
   "id": "e9e86cdf",
   "metadata": {},
   "outputs": [],
   "source": [
    "### create dummy variable for \"Gender\"\n",
    "customer = pd.get_dummies(customer , columns = ['Gender'] , drop_first = True)"
   ]
  },
  {
   "cell_type": "code",
   "execution_count": 109,
   "id": "9d3b5720",
   "metadata": {},
   "outputs": [],
   "source": [
    "X = customer[['Age' , 'EstimatedSalary' , 'Gender_Male']]\n",
    "Y = customer['Purchased']"
   ]
  },
  {
   "cell_type": "code",
   "execution_count": 117,
   "id": "9b397ff4",
   "metadata": {
    "scrolled": true
   },
   "outputs": [],
   "source": [
    "poly = PolynomialFeatures(interaction_only=True,include_bias = False)\n",
    "X_with_interaction = poly.fit_transform(X)\n",
    "\n",
    "### turn interaction array into dataframe\n",
    "X_with_interaction = pd.DataFrame(X_with_interaction , columns = X.columns.to_list() + ['Age * EstimatedSalary' , 'Age * Gender_Male' , 'EstimatedSalary * Gender_Male'])\n"
   ]
  },
  {
   "cell_type": "markdown",
   "id": "2606b1f8",
   "metadata": {},
   "source": [
    "### Full model"
   ]
  },
  {
   "cell_type": "code",
   "execution_count": 187,
   "id": "6db93e38",
   "metadata": {},
   "outputs": [
    {
     "name": "stdout",
     "output_type": "stream",
     "text": [
      "intercept :  -2.8215326738650626e-09\n",
      "score :  0.8175\n"
     ]
    },
    {
     "data": {
      "text/html": [
       "<div>\n",
       "<style scoped>\n",
       "    .dataframe tbody tr th:only-of-type {\n",
       "        vertical-align: middle;\n",
       "    }\n",
       "\n",
       "    .dataframe tbody tr th {\n",
       "        vertical-align: top;\n",
       "    }\n",
       "\n",
       "    .dataframe thead th {\n",
       "        text-align: right;\n",
       "    }\n",
       "</style>\n",
       "<table border=\"1\" class=\"dataframe\">\n",
       "  <thead>\n",
       "    <tr style=\"text-align: right;\">\n",
       "      <th></th>\n",
       "      <th>coeff</th>\n",
       "    </tr>\n",
       "  </thead>\n",
       "  <tbody>\n",
       "    <tr>\n",
       "      <th>Age</th>\n",
       "      <td>-5.347235e-08</td>\n",
       "    </tr>\n",
       "    <tr>\n",
       "      <th>EstimatedSalary</th>\n",
       "      <td>-7.873005e-05</td>\n",
       "    </tr>\n",
       "    <tr>\n",
       "      <th>Gender_Male</th>\n",
       "      <td>-9.220766e-10</td>\n",
       "    </tr>\n",
       "    <tr>\n",
       "      <th>Age * EstimatedSalary</th>\n",
       "      <td>1.920021e-06</td>\n",
       "    </tr>\n",
       "    <tr>\n",
       "      <th>Age * Gender_Male</th>\n",
       "      <td>-8.952760e-09</td>\n",
       "    </tr>\n",
       "    <tr>\n",
       "      <th>EstimatedSalary * Gender_Male</th>\n",
       "      <td>9.371159e-07</td>\n",
       "    </tr>\n",
       "  </tbody>\n",
       "</table>\n",
       "</div>"
      ],
      "text/plain": [
       "                                      coeff\n",
       "Age                           -5.347235e-08\n",
       "EstimatedSalary               -7.873005e-05\n",
       "Gender_Male                   -9.220766e-10\n",
       "Age * EstimatedSalary          1.920021e-06\n",
       "Age * Gender_Male             -8.952760e-09\n",
       "EstimatedSalary * Gender_Male  9.371159e-07"
      ]
     },
     "execution_count": 187,
     "metadata": {},
     "output_type": "execute_result"
    }
   ],
   "source": [
    "full_logr = LogisticRegression()\n",
    "full_logr.fit(X_with_interaction , Y)\n",
    "\n",
    "print('intercept : ' , full_logr.intercept_[0])\n",
    "print('score : ' , full_logr.score(X_with_interaction , Y))\n",
    "\n",
    "pd.DataFrame({'coeff' : full_logr.coef_[0]} ,\\\n",
    "             index = X_with_interaction.columns)"
   ]
  },
  {
   "cell_type": "markdown",
   "id": "a6b3f4a5",
   "metadata": {},
   "source": [
    "### Test out all other possible models"
   ]
  },
  {
   "cell_type": "code",
   "execution_count": null,
   "id": "86d494cc",
   "metadata": {},
   "outputs": [],
   "source": [
    "X_with_interaction['Y'] = Y"
   ]
  },
  {
   "cell_type": "code",
   "execution_count": 262,
   "id": "960d0f0d",
   "metadata": {},
   "outputs": [
    {
     "name": "stdout",
     "output_type": "stream",
     "text": [
      "Optimization terminated successfully.\n",
      "         Current function value: 0.344804\n",
      "         Iterations 8\n"
     ]
    },
    {
     "data": {
      "text/html": [
       "<table class=\"simpletable\">\n",
       "<caption>Logit Regression Results</caption>\n",
       "<tr>\n",
       "  <th>Dep. Variable:</th>           <td>Y</td>        <th>  No. Observations:  </th>  <td>   400</td>  \n",
       "</tr>\n",
       "<tr>\n",
       "  <th>Model:</th>                 <td>Logit</td>      <th>  Df Residuals:      </th>  <td>   396</td>  \n",
       "</tr>\n",
       "<tr>\n",
       "  <th>Method:</th>                 <td>MLE</td>       <th>  Df Model:          </th>  <td>     3</td>  \n",
       "</tr>\n",
       "<tr>\n",
       "  <th>Date:</th>            <td>Sun, 22 Jan 2023</td> <th>  Pseudo R-squ.:     </th>  <td>0.4711</td>  \n",
       "</tr>\n",
       "<tr>\n",
       "  <th>Time:</th>                <td>21:52:27</td>     <th>  Log-Likelihood:    </th> <td> -137.92</td> \n",
       "</tr>\n",
       "<tr>\n",
       "  <th>converged:</th>             <td>True</td>       <th>  LL-Null:           </th> <td> -260.79</td> \n",
       "</tr>\n",
       "<tr>\n",
       "  <th>Covariance Type:</th>     <td>nonrobust</td>    <th>  LLR p-value:       </th> <td>5.488e-53</td>\n",
       "</tr>\n",
       "</table>\n",
       "<table class=\"simpletable\">\n",
       "<tr>\n",
       "         <td></td>            <th>coef</th>     <th>std err</th>      <th>z</th>      <th>P>|z|</th>  <th>[0.025</th>    <th>0.975]</th>  \n",
       "</tr>\n",
       "<tr>\n",
       "  <th>Intercept</th>       <td>  -12.7836</td> <td>    1.359</td> <td>   -9.405</td> <td> 0.000</td> <td>  -15.448</td> <td>  -10.120</td>\n",
       "</tr>\n",
       "<tr>\n",
       "  <th>Age</th>             <td>    0.2370</td> <td>    0.026</td> <td>    8.984</td> <td> 0.000</td> <td>    0.185</td> <td>    0.289</td>\n",
       "</tr>\n",
       "<tr>\n",
       "  <th>EstimatedSalary</th> <td> 3.644e-05</td> <td> 5.47e-06</td> <td>    6.659</td> <td> 0.000</td> <td> 2.57e-05</td> <td> 4.72e-05</td>\n",
       "</tr>\n",
       "<tr>\n",
       "  <th>Gender_Male</th>     <td>    0.3338</td> <td>    0.305</td> <td>    1.094</td> <td> 0.274</td> <td>   -0.264</td> <td>    0.932</td>\n",
       "</tr>\n",
       "</table>"
      ],
      "text/plain": [
       "<class 'statsmodels.iolib.summary.Summary'>\n",
       "\"\"\"\n",
       "                           Logit Regression Results                           \n",
       "==============================================================================\n",
       "Dep. Variable:                      Y   No. Observations:                  400\n",
       "Model:                          Logit   Df Residuals:                      396\n",
       "Method:                           MLE   Df Model:                            3\n",
       "Date:                Sun, 22 Jan 2023   Pseudo R-squ.:                  0.4711\n",
       "Time:                        21:52:27   Log-Likelihood:                -137.92\n",
       "converged:                       True   LL-Null:                       -260.79\n",
       "Covariance Type:            nonrobust   LLR p-value:                 5.488e-53\n",
       "===================================================================================\n",
       "                      coef    std err          z      P>|z|      [0.025      0.975]\n",
       "-----------------------------------------------------------------------------------\n",
       "Intercept         -12.7836      1.359     -9.405      0.000     -15.448     -10.120\n",
       "Age                 0.2370      0.026      8.984      0.000       0.185       0.289\n",
       "EstimatedSalary  3.644e-05   5.47e-06      6.659      0.000    2.57e-05    4.72e-05\n",
       "Gender_Male         0.3338      0.305      1.094      0.274      -0.264       0.932\n",
       "===================================================================================\n",
       "\"\"\""
      ]
     },
     "execution_count": 262,
     "metadata": {},
     "output_type": "execute_result"
    }
   ],
   "source": [
    "bm = smf.logit(formula = 'Y ~ Age + EstimatedSalary + Gender_Male' , data = X_with_interaction).fit()\n",
    "bm.summary()"
   ]
  },
  {
   "cell_type": "code",
   "execution_count": 263,
   "id": "a4bf4d8c",
   "metadata": {},
   "outputs": [
    {
     "name": "stdout",
     "output_type": "stream",
     "text": [
      "Optimization terminated successfully.\n",
      "         Current function value: 0.266962\n",
      "         Iterations 9\n"
     ]
    },
    {
     "data": {
      "text/html": [
       "<table class=\"simpletable\">\n",
       "<caption>Logit Regression Results</caption>\n",
       "<tr>\n",
       "  <th>Dep. Variable:</th>           <td>Y</td>        <th>  No. Observations:  </th>  <td>   400</td>  \n",
       "</tr>\n",
       "<tr>\n",
       "  <th>Model:</th>                 <td>Logit</td>      <th>  Df Residuals:      </th>  <td>   396</td>  \n",
       "</tr>\n",
       "<tr>\n",
       "  <th>Method:</th>                 <td>MLE</td>       <th>  Df Model:          </th>  <td>     3</td>  \n",
       "</tr>\n",
       "<tr>\n",
       "  <th>Date:</th>            <td>Sun, 22 Jan 2023</td> <th>  Pseudo R-squ.:     </th>  <td>0.5905</td>  \n",
       "</tr>\n",
       "<tr>\n",
       "  <th>Time:</th>                <td>21:52:27</td>     <th>  Log-Likelihood:    </th> <td> -106.78</td> \n",
       "</tr>\n",
       "<tr>\n",
       "  <th>converged:</th>             <td>True</td>       <th>  LL-Null:           </th> <td> -260.79</td> \n",
       "</tr>\n",
       "<tr>\n",
       "  <th>Covariance Type:</th>     <td>nonrobust</td>    <th>  LLR p-value:       </th> <td>1.843e-66</td>\n",
       "</tr>\n",
       "</table>\n",
       "<table class=\"simpletable\">\n",
       "<tr>\n",
       "           <td></td>              <th>coef</th>     <th>std err</th>      <th>z</th>      <th>P>|z|</th>  <th>[0.025</th>    <th>0.975]</th>  \n",
       "</tr>\n",
       "<tr>\n",
       "  <th>Intercept</th>           <td>  -36.1099</td> <td>    4.419</td> <td>   -8.172</td> <td> 0.000</td> <td>  -44.770</td> <td>  -27.449</td>\n",
       "</tr>\n",
       "<tr>\n",
       "  <th>Age</th>                 <td>    0.7750</td> <td>    0.098</td> <td>    7.933</td> <td> 0.000</td> <td>    0.584</td> <td>    0.967</td>\n",
       "</tr>\n",
       "<tr>\n",
       "  <th>EstimatedSalary</th>     <td>    0.0003</td> <td> 4.23e-05</td> <td>    7.098</td> <td> 0.000</td> <td>    0.000</td> <td>    0.000</td>\n",
       "</tr>\n",
       "<tr>\n",
       "  <th>Age:EstimatedSalary</th> <td>-6.146e-06</td> <td> 9.21e-07</td> <td>   -6.670</td> <td> 0.000</td> <td>-7.95e-06</td> <td>-4.34e-06</td>\n",
       "</tr>\n",
       "</table><br/><br/>Possibly complete quasi-separation: A fraction 0.11 of observations can be<br/>perfectly predicted. This might indicate that there is complete<br/>quasi-separation. In this case some parameters will not be identified."
      ],
      "text/plain": [
       "<class 'statsmodels.iolib.summary.Summary'>\n",
       "\"\"\"\n",
       "                           Logit Regression Results                           \n",
       "==============================================================================\n",
       "Dep. Variable:                      Y   No. Observations:                  400\n",
       "Model:                          Logit   Df Residuals:                      396\n",
       "Method:                           MLE   Df Model:                            3\n",
       "Date:                Sun, 22 Jan 2023   Pseudo R-squ.:                  0.5905\n",
       "Time:                        21:52:27   Log-Likelihood:                -106.78\n",
       "converged:                       True   LL-Null:                       -260.79\n",
       "Covariance Type:            nonrobust   LLR p-value:                 1.843e-66\n",
       "=======================================================================================\n",
       "                          coef    std err          z      P>|z|      [0.025      0.975]\n",
       "---------------------------------------------------------------------------------------\n",
       "Intercept             -36.1099      4.419     -8.172      0.000     -44.770     -27.449\n",
       "Age                     0.7750      0.098      7.933      0.000       0.584       0.967\n",
       "EstimatedSalary         0.0003   4.23e-05      7.098      0.000       0.000       0.000\n",
       "Age:EstimatedSalary -6.146e-06   9.21e-07     -6.670      0.000   -7.95e-06   -4.34e-06\n",
       "=======================================================================================\n",
       "\n",
       "Possibly complete quasi-separation: A fraction 0.11 of observations can be\n",
       "perfectly predicted. This might indicate that there is complete\n",
       "quasi-separation. In this case some parameters will not be identified.\n",
       "\"\"\""
      ]
     },
     "execution_count": 263,
     "metadata": {},
     "output_type": "execute_result"
    }
   ],
   "source": [
    "bm = smf.logit(formula = 'Y ~ Age + EstimatedSalary + Age * EstimatedSalary' , data = X_with_interaction).fit()\n",
    "bm.summary()"
   ]
  },
  {
   "cell_type": "code",
   "execution_count": 264,
   "id": "e476f375",
   "metadata": {},
   "outputs": [
    {
     "name": "stdout",
     "output_type": "stream",
     "text": [
      "Optimization terminated successfully.\n",
      "         Current function value: 0.342327\n",
      "         Iterations 8\n"
     ]
    },
    {
     "data": {
      "text/html": [
       "<table class=\"simpletable\">\n",
       "<caption>Logit Regression Results</caption>\n",
       "<tr>\n",
       "  <th>Dep. Variable:</th>           <td>Y</td>        <th>  No. Observations:  </th>  <td>   400</td>  \n",
       "</tr>\n",
       "<tr>\n",
       "  <th>Model:</th>                 <td>Logit</td>      <th>  Df Residuals:      </th>  <td>   394</td>  \n",
       "</tr>\n",
       "<tr>\n",
       "  <th>Method:</th>                 <td>MLE</td>       <th>  Df Model:          </th>  <td>     5</td>  \n",
       "</tr>\n",
       "<tr>\n",
       "  <th>Date:</th>            <td>Sun, 22 Jan 2023</td> <th>  Pseudo R-squ.:     </th>  <td>0.4749</td>  \n",
       "</tr>\n",
       "<tr>\n",
       "  <th>Time:</th>                <td>21:52:27</td>     <th>  Log-Likelihood:    </th> <td> -136.93</td> \n",
       "</tr>\n",
       "<tr>\n",
       "  <th>converged:</th>             <td>True</td>       <th>  LL-Null:           </th> <td> -260.79</td> \n",
       "</tr>\n",
       "<tr>\n",
       "  <th>Covariance Type:</th>     <td>nonrobust</td>    <th>  LLR p-value:       </th> <td>1.703e-51</td>\n",
       "</tr>\n",
       "</table>\n",
       "<table class=\"simpletable\">\n",
       "<tr>\n",
       "               <td></td>                  <th>coef</th>     <th>std err</th>      <th>z</th>      <th>P>|z|</th>  <th>[0.025</th>    <th>0.975]</th>  \n",
       "</tr>\n",
       "<tr>\n",
       "  <th>Intercept</th>                   <td>  -11.2916</td> <td>    1.596</td> <td>   -7.073</td> <td> 0.000</td> <td>  -14.420</td> <td>   -8.163</td>\n",
       "</tr>\n",
       "<tr>\n",
       "  <th>Age</th>                         <td>    0.2096</td> <td>    0.031</td> <td>    6.689</td> <td> 0.000</td> <td>    0.148</td> <td>    0.271</td>\n",
       "</tr>\n",
       "<tr>\n",
       "  <th>EstimatedSalary</th>             <td> 3.148e-05</td> <td> 6.75e-06</td> <td>    4.665</td> <td> 0.000</td> <td> 1.83e-05</td> <td> 4.47e-05</td>\n",
       "</tr>\n",
       "<tr>\n",
       "  <th>Gender_Male</th>                 <td>   -3.4790</td> <td>    2.823</td> <td>   -1.232</td> <td> 0.218</td> <td>   -9.011</td> <td>    2.053</td>\n",
       "</tr>\n",
       "<tr>\n",
       "  <th>Age:Gender_Male</th>             <td>    0.0721</td> <td>    0.057</td> <td>    1.275</td> <td> 0.202</td> <td>   -0.039</td> <td>    0.183</td>\n",
       "</tr>\n",
       "<tr>\n",
       "  <th>Gender_Male:EstimatedSalary</th> <td> 1.267e-05</td> <td> 1.14e-05</td> <td>    1.114</td> <td> 0.265</td> <td>-9.62e-06</td> <td>  3.5e-05</td>\n",
       "</tr>\n",
       "</table>"
      ],
      "text/plain": [
       "<class 'statsmodels.iolib.summary.Summary'>\n",
       "\"\"\"\n",
       "                           Logit Regression Results                           \n",
       "==============================================================================\n",
       "Dep. Variable:                      Y   No. Observations:                  400\n",
       "Model:                          Logit   Df Residuals:                      394\n",
       "Method:                           MLE   Df Model:                            5\n",
       "Date:                Sun, 22 Jan 2023   Pseudo R-squ.:                  0.4749\n",
       "Time:                        21:52:27   Log-Likelihood:                -136.93\n",
       "converged:                       True   LL-Null:                       -260.79\n",
       "Covariance Type:            nonrobust   LLR p-value:                 1.703e-51\n",
       "===============================================================================================\n",
       "                                  coef    std err          z      P>|z|      [0.025      0.975]\n",
       "-----------------------------------------------------------------------------------------------\n",
       "Intercept                     -11.2916      1.596     -7.073      0.000     -14.420      -8.163\n",
       "Age                             0.2096      0.031      6.689      0.000       0.148       0.271\n",
       "EstimatedSalary              3.148e-05   6.75e-06      4.665      0.000    1.83e-05    4.47e-05\n",
       "Gender_Male                    -3.4790      2.823     -1.232      0.218      -9.011       2.053\n",
       "Age:Gender_Male                 0.0721      0.057      1.275      0.202      -0.039       0.183\n",
       "Gender_Male:EstimatedSalary  1.267e-05   1.14e-05      1.114      0.265   -9.62e-06     3.5e-05\n",
       "===============================================================================================\n",
       "\"\"\""
      ]
     },
     "execution_count": 264,
     "metadata": {},
     "output_type": "execute_result"
    }
   ],
   "source": [
    "bm = smf.logit(formula = 'Y ~ Age + EstimatedSalary + Gender_Male + Age * Gender_Male + Gender_Male * EstimatedSalary' , data = X_with_interaction).fit()\n",
    "bm.summary()"
   ]
  },
  {
   "cell_type": "code",
   "execution_count": 265,
   "id": "332488d7",
   "metadata": {},
   "outputs": [
    {
     "name": "stdout",
     "output_type": "stream",
     "text": [
      "Optimization terminated successfully.\n",
      "         Current function value: 0.263191\n",
      "         Iterations 9\n"
     ]
    },
    {
     "data": {
      "text/html": [
       "<table class=\"simpletable\">\n",
       "<caption>Logit Regression Results</caption>\n",
       "<tr>\n",
       "  <th>Dep. Variable:</th>           <td>Y</td>        <th>  No. Observations:  </th>  <td>   400</td>  \n",
       "</tr>\n",
       "<tr>\n",
       "  <th>Model:</th>                 <td>Logit</td>      <th>  Df Residuals:      </th>  <td>   394</td>  \n",
       "</tr>\n",
       "<tr>\n",
       "  <th>Method:</th>                 <td>MLE</td>       <th>  Df Model:          </th>  <td>     5</td>  \n",
       "</tr>\n",
       "<tr>\n",
       "  <th>Date:</th>            <td>Sun, 22 Jan 2023</td> <th>  Pseudo R-squ.:     </th>  <td>0.5963</td>  \n",
       "</tr>\n",
       "<tr>\n",
       "  <th>Time:</th>                <td>21:52:27</td>     <th>  Log-Likelihood:    </th> <td> -105.28</td> \n",
       "</tr>\n",
       "<tr>\n",
       "  <th>converged:</th>             <td>True</td>       <th>  LL-Null:           </th> <td> -260.79</td> \n",
       "</tr>\n",
       "<tr>\n",
       "  <th>Covariance Type:</th>     <td>nonrobust</td>    <th>  LLR p-value:       </th> <td>4.276e-65</td>\n",
       "</tr>\n",
       "</table>\n",
       "<table class=\"simpletable\">\n",
       "<tr>\n",
       "               <td></td>                  <th>coef</th>     <th>std err</th>      <th>z</th>      <th>P>|z|</th>  <th>[0.025</th>    <th>0.975]</th>  \n",
       "</tr>\n",
       "<tr>\n",
       "  <th>Intercept</th>                   <td>  -37.6715</td> <td>    4.669</td> <td>   -8.069</td> <td> 0.000</td> <td>  -46.822</td> <td>  -28.521</td>\n",
       "</tr>\n",
       "<tr>\n",
       "  <th>Age</th>                         <td>    0.8016</td> <td>    0.102</td> <td>    7.866</td> <td> 0.000</td> <td>    0.602</td> <td>    1.001</td>\n",
       "</tr>\n",
       "<tr>\n",
       "  <th>EstimatedSalary</th>             <td>    0.0003</td> <td> 4.42e-05</td> <td>    7.035</td> <td> 0.000</td> <td>    0.000</td> <td>    0.000</td>\n",
       "</tr>\n",
       "<tr>\n",
       "  <th>Gender_Male</th>                 <td>    0.5679</td> <td>    0.912</td> <td>    0.622</td> <td> 0.534</td> <td>   -1.221</td> <td>    2.356</td>\n",
       "</tr>\n",
       "<tr>\n",
       "  <th>Age:EstimatedSalary</th>         <td>-6.362e-06</td> <td> 9.57e-07</td> <td>   -6.645</td> <td> 0.000</td> <td>-8.24e-06</td> <td>-4.49e-06</td>\n",
       "</tr>\n",
       "<tr>\n",
       "  <th>Gender_Male:EstimatedSalary</th> <td> 6.597e-07</td> <td> 1.06e-05</td> <td>    0.062</td> <td> 0.950</td> <td>   -2e-05</td> <td> 2.14e-05</td>\n",
       "</tr>\n",
       "</table><br/><br/>Possibly complete quasi-separation: A fraction 0.12 of observations can be<br/>perfectly predicted. This might indicate that there is complete<br/>quasi-separation. In this case some parameters will not be identified."
      ],
      "text/plain": [
       "<class 'statsmodels.iolib.summary.Summary'>\n",
       "\"\"\"\n",
       "                           Logit Regression Results                           \n",
       "==============================================================================\n",
       "Dep. Variable:                      Y   No. Observations:                  400\n",
       "Model:                          Logit   Df Residuals:                      394\n",
       "Method:                           MLE   Df Model:                            5\n",
       "Date:                Sun, 22 Jan 2023   Pseudo R-squ.:                  0.5963\n",
       "Time:                        21:52:27   Log-Likelihood:                -105.28\n",
       "converged:                       True   LL-Null:                       -260.79\n",
       "Covariance Type:            nonrobust   LLR p-value:                 4.276e-65\n",
       "===============================================================================================\n",
       "                                  coef    std err          z      P>|z|      [0.025      0.975]\n",
       "-----------------------------------------------------------------------------------------------\n",
       "Intercept                     -37.6715      4.669     -8.069      0.000     -46.822     -28.521\n",
       "Age                             0.8016      0.102      7.866      0.000       0.602       1.001\n",
       "EstimatedSalary                 0.0003   4.42e-05      7.035      0.000       0.000       0.000\n",
       "Gender_Male                     0.5679      0.912      0.622      0.534      -1.221       2.356\n",
       "Age:EstimatedSalary         -6.362e-06   9.57e-07     -6.645      0.000   -8.24e-06   -4.49e-06\n",
       "Gender_Male:EstimatedSalary  6.597e-07   1.06e-05      0.062      0.950      -2e-05    2.14e-05\n",
       "===============================================================================================\n",
       "\n",
       "Possibly complete quasi-separation: A fraction 0.12 of observations can be\n",
       "perfectly predicted. This might indicate that there is complete\n",
       "quasi-separation. In this case some parameters will not be identified.\n",
       "\"\"\""
      ]
     },
     "execution_count": 265,
     "metadata": {},
     "output_type": "execute_result"
    }
   ],
   "source": [
    "bm = smf.logit(formula = 'Y ~ Age + EstimatedSalary + Gender_Male + Age * EstimatedSalary + Gender_Male * EstimatedSalary' , data = X_with_interaction).fit()\n",
    "bm.summary()"
   ]
  },
  {
   "cell_type": "code",
   "execution_count": 266,
   "id": "9270e7f9",
   "metadata": {},
   "outputs": [
    {
     "name": "stdout",
     "output_type": "stream",
     "text": [
      "Optimization terminated successfully.\n",
      "         Current function value: 0.262911\n",
      "         Iterations 9\n"
     ]
    },
    {
     "data": {
      "text/html": [
       "<table class=\"simpletable\">\n",
       "<caption>Logit Regression Results</caption>\n",
       "<tr>\n",
       "  <th>Dep. Variable:</th>           <td>Y</td>        <th>  No. Observations:  </th>  <td>   400</td>  \n",
       "</tr>\n",
       "<tr>\n",
       "  <th>Model:</th>                 <td>Logit</td>      <th>  Df Residuals:      </th>  <td>   394</td>  \n",
       "</tr>\n",
       "<tr>\n",
       "  <th>Method:</th>                 <td>MLE</td>       <th>  Df Model:          </th>  <td>     5</td>  \n",
       "</tr>\n",
       "<tr>\n",
       "  <th>Date:</th>            <td>Sun, 22 Jan 2023</td> <th>  Pseudo R-squ.:     </th>  <td>0.5967</td>  \n",
       "</tr>\n",
       "<tr>\n",
       "  <th>Time:</th>                <td>21:52:27</td>     <th>  Log-Likelihood:    </th> <td> -105.16</td> \n",
       "</tr>\n",
       "<tr>\n",
       "  <th>converged:</th>             <td>True</td>       <th>  LL-Null:           </th> <td> -260.79</td> \n",
       "</tr>\n",
       "<tr>\n",
       "  <th>Covariance Type:</th>     <td>nonrobust</td>    <th>  LLR p-value:       </th> <td>3.827e-65</td>\n",
       "</tr>\n",
       "</table>\n",
       "<table class=\"simpletable\">\n",
       "<tr>\n",
       "           <td></td>              <th>coef</th>     <th>std err</th>      <th>z</th>      <th>P>|z|</th>  <th>[0.025</th>    <th>0.975]</th>  \n",
       "</tr>\n",
       "<tr>\n",
       "  <th>Intercept</th>           <td>  -37.1082</td> <td>    4.790</td> <td>   -7.747</td> <td> 0.000</td> <td>  -46.496</td> <td>  -27.720</td>\n",
       "</tr>\n",
       "<tr>\n",
       "  <th>Age</th>                 <td>    0.7879</td> <td>    0.105</td> <td>    7.491</td> <td> 0.000</td> <td>    0.582</td> <td>    0.994</td>\n",
       "</tr>\n",
       "<tr>\n",
       "  <th>EstimatedSalary</th>     <td>    0.0003</td> <td> 4.42e-05</td> <td>    7.025</td> <td> 0.000</td> <td>    0.000</td> <td>    0.000</td>\n",
       "</tr>\n",
       "<tr>\n",
       "  <th>Gender_Male</th>         <td>   -0.4415</td> <td>    2.260</td> <td>   -0.195</td> <td> 0.845</td> <td>   -4.872</td> <td>    3.989</td>\n",
       "</tr>\n",
       "<tr>\n",
       "  <th>Age:EstimatedSalary</th> <td>-6.339e-06</td> <td>  9.6e-07</td> <td>   -6.602</td> <td> 0.000</td> <td>-8.22e-06</td> <td>-4.46e-06</td>\n",
       "</tr>\n",
       "<tr>\n",
       "  <th>Age:Gender_Male</th>     <td>    0.0253</td> <td>    0.053</td> <td>    0.475</td> <td> 0.635</td> <td>   -0.079</td> <td>    0.130</td>\n",
       "</tr>\n",
       "</table><br/><br/>Possibly complete quasi-separation: A fraction 0.11 of observations can be<br/>perfectly predicted. This might indicate that there is complete<br/>quasi-separation. In this case some parameters will not be identified."
      ],
      "text/plain": [
       "<class 'statsmodels.iolib.summary.Summary'>\n",
       "\"\"\"\n",
       "                           Logit Regression Results                           \n",
       "==============================================================================\n",
       "Dep. Variable:                      Y   No. Observations:                  400\n",
       "Model:                          Logit   Df Residuals:                      394\n",
       "Method:                           MLE   Df Model:                            5\n",
       "Date:                Sun, 22 Jan 2023   Pseudo R-squ.:                  0.5967\n",
       "Time:                        21:52:27   Log-Likelihood:                -105.16\n",
       "converged:                       True   LL-Null:                       -260.79\n",
       "Covariance Type:            nonrobust   LLR p-value:                 3.827e-65\n",
       "=======================================================================================\n",
       "                          coef    std err          z      P>|z|      [0.025      0.975]\n",
       "---------------------------------------------------------------------------------------\n",
       "Intercept             -37.1082      4.790     -7.747      0.000     -46.496     -27.720\n",
       "Age                     0.7879      0.105      7.491      0.000       0.582       0.994\n",
       "EstimatedSalary         0.0003   4.42e-05      7.025      0.000       0.000       0.000\n",
       "Gender_Male            -0.4415      2.260     -0.195      0.845      -4.872       3.989\n",
       "Age:EstimatedSalary -6.339e-06    9.6e-07     -6.602      0.000   -8.22e-06   -4.46e-06\n",
       "Age:Gender_Male         0.0253      0.053      0.475      0.635      -0.079       0.130\n",
       "=======================================================================================\n",
       "\n",
       "Possibly complete quasi-separation: A fraction 0.11 of observations can be\n",
       "perfectly predicted. This might indicate that there is complete\n",
       "quasi-separation. In this case some parameters will not be identified.\n",
       "\"\"\""
      ]
     },
     "execution_count": 266,
     "metadata": {},
     "output_type": "execute_result"
    }
   ],
   "source": [
    "bm = smf.logit(formula = 'Y ~ Age + EstimatedSalary + Gender_Male + Age * EstimatedSalary + Age * Gender_Male' , data = X_with_interaction).fit()\n",
    "bm.summary()"
   ]
  },
  {
   "cell_type": "code",
   "execution_count": 261,
   "id": "90f31a9e",
   "metadata": {},
   "outputs": [
    {
     "name": "stdout",
     "output_type": "stream",
     "text": [
      "Optimization terminated successfully.\n",
      "         Current function value: 0.262888\n",
      "         Iterations 9\n"
     ]
    },
    {
     "data": {
      "text/html": [
       "<table class=\"simpletable\">\n",
       "<caption>Logit Regression Results</caption>\n",
       "<tr>\n",
       "  <th>Dep. Variable:</th>           <td>Y</td>        <th>  No. Observations:  </th>  <td>   400</td>  \n",
       "</tr>\n",
       "<tr>\n",
       "  <th>Model:</th>                 <td>Logit</td>      <th>  Df Residuals:      </th>  <td>   393</td>  \n",
       "</tr>\n",
       "<tr>\n",
       "  <th>Method:</th>                 <td>MLE</td>       <th>  Df Model:          </th>  <td>     6</td>  \n",
       "</tr>\n",
       "<tr>\n",
       "  <th>Date:</th>            <td>Sun, 22 Jan 2023</td> <th>  Pseudo R-squ.:     </th>  <td>0.5968</td>  \n",
       "</tr>\n",
       "<tr>\n",
       "  <th>Time:</th>                <td>21:49:20</td>     <th>  Log-Likelihood:    </th> <td> -105.16</td> \n",
       "</tr>\n",
       "<tr>\n",
       "  <th>converged:</th>             <td>True</td>       <th>  LL-Null:           </th> <td> -260.79</td> \n",
       "</tr>\n",
       "<tr>\n",
       "  <th>Covariance Type:</th>     <td>nonrobust</td>    <th>  LLR p-value:       </th> <td>3.155e-64</td>\n",
       "</tr>\n",
       "</table>\n",
       "<table class=\"simpletable\">\n",
       "<tr>\n",
       "               <td></td>                  <th>coef</th>     <th>std err</th>      <th>z</th>      <th>P>|z|</th>  <th>[0.025</th>    <th>0.975]</th>  \n",
       "</tr>\n",
       "<tr>\n",
       "  <th>Intercept</th>                   <td>  -37.0373</td> <td>    4.828</td> <td>   -7.671</td> <td> 0.000</td> <td>  -46.501</td> <td>  -27.574</td>\n",
       "</tr>\n",
       "<tr>\n",
       "  <th>Age</th>                         <td>    0.7875</td> <td>    0.106</td> <td>    7.463</td> <td> 0.000</td> <td>    0.581</td> <td>    0.994</td>\n",
       "</tr>\n",
       "<tr>\n",
       "  <th>EstimatedSalary</th>             <td>    0.0003</td> <td> 4.46e-05</td> <td>    6.953</td> <td> 0.000</td> <td>    0.000</td> <td>    0.000</td>\n",
       "</tr>\n",
       "<tr>\n",
       "  <th>Gender_Male</th>                 <td>   -0.6031</td> <td>    2.572</td> <td>   -0.234</td> <td> 0.815</td> <td>   -5.644</td> <td>    4.438</td>\n",
       "</tr>\n",
       "<tr>\n",
       "  <th>Age:EstimatedSalary</th>         <td>-6.337e-06</td> <td> 9.62e-07</td> <td>   -6.585</td> <td> 0.000</td> <td>-8.22e-06</td> <td>-4.45e-06</td>\n",
       "</tr>\n",
       "<tr>\n",
       "  <th>Age:Gender_Male</th>             <td>    0.0264</td> <td>    0.054</td> <td>    0.488</td> <td> 0.625</td> <td>   -0.080</td> <td>    0.132</td>\n",
       "</tr>\n",
       "<tr>\n",
       "  <th>Gender_Male:EstimatedSalary</th> <td> 1.443e-06</td> <td> 1.08e-05</td> <td>    0.134</td> <td> 0.894</td> <td>-1.97e-05</td> <td> 2.26e-05</td>\n",
       "</tr>\n",
       "</table><br/><br/>Possibly complete quasi-separation: A fraction 0.11 of observations can be<br/>perfectly predicted. This might indicate that there is complete<br/>quasi-separation. In this case some parameters will not be identified."
      ],
      "text/plain": [
       "<class 'statsmodels.iolib.summary.Summary'>\n",
       "\"\"\"\n",
       "                           Logit Regression Results                           \n",
       "==============================================================================\n",
       "Dep. Variable:                      Y   No. Observations:                  400\n",
       "Model:                          Logit   Df Residuals:                      393\n",
       "Method:                           MLE   Df Model:                            6\n",
       "Date:                Sun, 22 Jan 2023   Pseudo R-squ.:                  0.5968\n",
       "Time:                        21:49:20   Log-Likelihood:                -105.16\n",
       "converged:                       True   LL-Null:                       -260.79\n",
       "Covariance Type:            nonrobust   LLR p-value:                 3.155e-64\n",
       "===============================================================================================\n",
       "                                  coef    std err          z      P>|z|      [0.025      0.975]\n",
       "-----------------------------------------------------------------------------------------------\n",
       "Intercept                     -37.0373      4.828     -7.671      0.000     -46.501     -27.574\n",
       "Age                             0.7875      0.106      7.463      0.000       0.581       0.994\n",
       "EstimatedSalary                 0.0003   4.46e-05      6.953      0.000       0.000       0.000\n",
       "Gender_Male                    -0.6031      2.572     -0.234      0.815      -5.644       4.438\n",
       "Age:EstimatedSalary         -6.337e-06   9.62e-07     -6.585      0.000   -8.22e-06   -4.45e-06\n",
       "Age:Gender_Male                 0.0264      0.054      0.488      0.625      -0.080       0.132\n",
       "Gender_Male:EstimatedSalary  1.443e-06   1.08e-05      0.134      0.894   -1.97e-05    2.26e-05\n",
       "===============================================================================================\n",
       "\n",
       "Possibly complete quasi-separation: A fraction 0.11 of observations can be\n",
       "perfectly predicted. This might indicate that there is complete\n",
       "quasi-separation. In this case some parameters will not be identified.\n",
       "\"\"\""
      ]
     },
     "execution_count": 261,
     "metadata": {},
     "output_type": "execute_result"
    }
   ],
   "source": [
    "bm = smf.logit(formula = 'Y ~ Age + EstimatedSalary + Gender_Male + Age * EstimatedSalary + Age * Gender_Male + Gender_Male * EstimatedSalary' , data = X_with_interaction).fit()\n",
    "bm.summary()"
   ]
  },
  {
   "cell_type": "markdown",
   "id": "98ac710a",
   "metadata": {},
   "source": [
    "base on the above summaries, model containing \n",
    "\n",
    "1. 'Age'\n",
    "2. 'EstimatedSalary' \n",
    "3. 'Gender_Male' \n",
    "4. 'Age * EstimatedSalary'\n",
    "5. 'Age * Gender_Male'\n",
    "6. 'Gender_Male * EstimatedSalary'\n",
    "\n",
    "is the best model with its equals to Pseudo R-squ.:\t0.5968"
   ]
  },
  {
   "cell_type": "markdown",
   "id": "4a1e5a82",
   "metadata": {},
   "source": [
    "### 3 . For the Logistic Regression models trained above, pick the best model wrt to the in-sample R2 and give your interpretation of the model’s coefficients (For example, what effect does a positive or negative coefficient have on the model and so on)."
   ]
  },
  {
   "cell_type": "code",
   "execution_count": 267,
   "id": "3a6bd278",
   "metadata": {
    "scrolled": false
   },
   "outputs": [
    {
     "name": "stdout",
     "output_type": "stream",
     "text": [
      "Optimization terminated successfully.\n",
      "         Current function value: 0.262888\n",
      "         Iterations 9\n"
     ]
    },
    {
     "data": {
      "text/html": [
       "<table class=\"simpletable\">\n",
       "<caption>Logit Regression Results</caption>\n",
       "<tr>\n",
       "  <th>Dep. Variable:</th>           <td>Y</td>        <th>  No. Observations:  </th>  <td>   400</td>  \n",
       "</tr>\n",
       "<tr>\n",
       "  <th>Model:</th>                 <td>Logit</td>      <th>  Df Residuals:      </th>  <td>   393</td>  \n",
       "</tr>\n",
       "<tr>\n",
       "  <th>Method:</th>                 <td>MLE</td>       <th>  Df Model:          </th>  <td>     6</td>  \n",
       "</tr>\n",
       "<tr>\n",
       "  <th>Date:</th>            <td>Sun, 22 Jan 2023</td> <th>  Pseudo R-squ.:     </th>  <td>0.5968</td>  \n",
       "</tr>\n",
       "<tr>\n",
       "  <th>Time:</th>                <td>21:57:08</td>     <th>  Log-Likelihood:    </th> <td> -105.16</td> \n",
       "</tr>\n",
       "<tr>\n",
       "  <th>converged:</th>             <td>True</td>       <th>  LL-Null:           </th> <td> -260.79</td> \n",
       "</tr>\n",
       "<tr>\n",
       "  <th>Covariance Type:</th>     <td>nonrobust</td>    <th>  LLR p-value:       </th> <td>3.155e-64</td>\n",
       "</tr>\n",
       "</table>\n",
       "<table class=\"simpletable\">\n",
       "<tr>\n",
       "               <td></td>                  <th>coef</th>     <th>std err</th>      <th>z</th>      <th>P>|z|</th>  <th>[0.025</th>    <th>0.975]</th>  \n",
       "</tr>\n",
       "<tr>\n",
       "  <th>Intercept</th>                   <td>  -37.0373</td> <td>    4.828</td> <td>   -7.671</td> <td> 0.000</td> <td>  -46.501</td> <td>  -27.574</td>\n",
       "</tr>\n",
       "<tr>\n",
       "  <th>Age</th>                         <td>    0.7875</td> <td>    0.106</td> <td>    7.463</td> <td> 0.000</td> <td>    0.581</td> <td>    0.994</td>\n",
       "</tr>\n",
       "<tr>\n",
       "  <th>EstimatedSalary</th>             <td>    0.0003</td> <td> 4.46e-05</td> <td>    6.953</td> <td> 0.000</td> <td>    0.000</td> <td>    0.000</td>\n",
       "</tr>\n",
       "<tr>\n",
       "  <th>Gender_Male</th>                 <td>   -0.6031</td> <td>    2.572</td> <td>   -0.234</td> <td> 0.815</td> <td>   -5.644</td> <td>    4.438</td>\n",
       "</tr>\n",
       "<tr>\n",
       "  <th>Age:EstimatedSalary</th>         <td>-6.337e-06</td> <td> 9.62e-07</td> <td>   -6.585</td> <td> 0.000</td> <td>-8.22e-06</td> <td>-4.45e-06</td>\n",
       "</tr>\n",
       "<tr>\n",
       "  <th>Age:Gender_Male</th>             <td>    0.0264</td> <td>    0.054</td> <td>    0.488</td> <td> 0.625</td> <td>   -0.080</td> <td>    0.132</td>\n",
       "</tr>\n",
       "<tr>\n",
       "  <th>Gender_Male:EstimatedSalary</th> <td> 1.443e-06</td> <td> 1.08e-05</td> <td>    0.134</td> <td> 0.894</td> <td>-1.97e-05</td> <td> 2.26e-05</td>\n",
       "</tr>\n",
       "</table><br/><br/>Possibly complete quasi-separation: A fraction 0.11 of observations can be<br/>perfectly predicted. This might indicate that there is complete<br/>quasi-separation. In this case some parameters will not be identified."
      ],
      "text/plain": [
       "<class 'statsmodels.iolib.summary.Summary'>\n",
       "\"\"\"\n",
       "                           Logit Regression Results                           \n",
       "==============================================================================\n",
       "Dep. Variable:                      Y   No. Observations:                  400\n",
       "Model:                          Logit   Df Residuals:                      393\n",
       "Method:                           MLE   Df Model:                            6\n",
       "Date:                Sun, 22 Jan 2023   Pseudo R-squ.:                  0.5968\n",
       "Time:                        21:57:08   Log-Likelihood:                -105.16\n",
       "converged:                       True   LL-Null:                       -260.79\n",
       "Covariance Type:            nonrobust   LLR p-value:                 3.155e-64\n",
       "===============================================================================================\n",
       "                                  coef    std err          z      P>|z|      [0.025      0.975]\n",
       "-----------------------------------------------------------------------------------------------\n",
       "Intercept                     -37.0373      4.828     -7.671      0.000     -46.501     -27.574\n",
       "Age                             0.7875      0.106      7.463      0.000       0.581       0.994\n",
       "EstimatedSalary                 0.0003   4.46e-05      6.953      0.000       0.000       0.000\n",
       "Gender_Male                    -0.6031      2.572     -0.234      0.815      -5.644       4.438\n",
       "Age:EstimatedSalary         -6.337e-06   9.62e-07     -6.585      0.000   -8.22e-06   -4.45e-06\n",
       "Age:Gender_Male                 0.0264      0.054      0.488      0.625      -0.080       0.132\n",
       "Gender_Male:EstimatedSalary  1.443e-06   1.08e-05      0.134      0.894   -1.97e-05    2.26e-05\n",
       "===============================================================================================\n",
       "\n",
       "Possibly complete quasi-separation: A fraction 0.11 of observations can be\n",
       "perfectly predicted. This might indicate that there is complete\n",
       "quasi-separation. In this case some parameters will not be identified.\n",
       "\"\"\""
      ]
     },
     "execution_count": 267,
     "metadata": {},
     "output_type": "execute_result"
    }
   ],
   "source": [
    "X_with_interaction['Y'] = Y\n",
    "### Best model\n",
    "bm = smf.logit(formula = 'Y ~ Age + EstimatedSalary + Gender_Male + Age * EstimatedSalary + Age * Gender_Male + Gender_Male * EstimatedSalary' , data = X_with_interaction).fit()\n",
    "\n",
    "bm.summary()"
   ]
  },
  {
   "cell_type": "code",
   "execution_count": 268,
   "id": "5493998b",
   "metadata": {},
   "outputs": [
    {
     "name": "stdout",
     "output_type": "stream",
     "text": [
      "Age :  2.2286588678406374\n",
      "Estimated Salary :  1.0003000450045003\n",
      "Gender_male :  1.8592998646357508\n",
      "Age x EstimatedSalary :  0.9999936400202247\n",
      "Gender_Male x EstimatedSalary :  1.000001443001041\n",
      "Age x Gender_Male :  1.026751566971056\n"
     ]
    }
   ],
   "source": [
    "print(\"Age : \" , math.exp(0.8014))\n",
    "print(\"Estimated Salary : \" , math.exp(0.0003))\n",
    "print(\"Gender_male : \" , math.exp(0.6202))\n",
    "print(\"Age x EstimatedSalary : \" , math.exp(-6.36e-06))\n",
    "print(\"Gender_Male x EstimatedSalary : \" , math.exp(1.443e-06))\n",
    "print(\"Age x Gender_Male : \" , math.exp(0.0264))"
   ]
  },
  {
   "cell_type": "markdown",
   "id": "a48334c6",
   "metadata": {},
   "source": [
    "In sample R-square = 0.5963.\n",
    "\n",
    "Coefficient interpretation:\n",
    "\n",
    "1. Age : when age increase by 1, the probability of the customer purchasing a product increase by 1.2286 times\n",
    "\n",
    "2. Estimated Salary increase by 1, the probability of the customer purchasing a product increase by 0.0003 times\n",
    "\n",
    "3. Gender_Male : when the customer gender is \"Male\", the probability of the customer purchasing a product increase by 0.8592 times\n",
    "\n",
    "4. Age x Estimated_Salary interaction: when Age increase by 1, the probability of customer purchasing a product decrease by 0.0000064 times; when Estimated Salary increase by 1, the probability of customer purchasing a product decrease by by 0.0000064 times as well.\n",
    "\n",
    "5. Gender_Male x Estimated_Salary interaction: when Age increase by 1, the probability of customer purchasing a product increase by 0000014 times; when Estimated Salary increase by 1, the probability of customer purchasing a product increase by by 0000014 times as well.\n",
    "\n",
    "6. Gender_Male x Age interaction: when Age increase by 1, the probability of customer purchasing a product increase by 0.02675 times; when Estimated Salary increase by 1, the probability of customer purchasing a product increase by by 0.02675 times as well."
   ]
  },
  {
   "cell_type": "markdown",
   "id": "98a5a645",
   "metadata": {},
   "source": [
    "### 4. Is accuracy a good metric to judge the above model? Give reasons and alternatives to support your answer."
   ]
  },
  {
   "cell_type": "markdown",
   "id": "9750f579",
   "metadata": {},
   "source": [
    "I think accuracy is probably not the best measurement here, becasue the number of \"purchased\" and \"not purchased\" is not balanced (we have many more not purchased customer in the data set), from this point of view, the machine can achieve a pretty good accuracy rate only by categorizing every customer to \"not purchased\"."
   ]
  },
  {
   "cell_type": "code",
   "execution_count": 249,
   "id": "64cf9df3",
   "metadata": {},
   "outputs": [
    {
     "data": {
      "text/html": [
       "<div>\n",
       "<style scoped>\n",
       "    .dataframe tbody tr th:only-of-type {\n",
       "        vertical-align: middle;\n",
       "    }\n",
       "\n",
       "    .dataframe tbody tr th {\n",
       "        vertical-align: top;\n",
       "    }\n",
       "\n",
       "    .dataframe thead th {\n",
       "        text-align: right;\n",
       "    }\n",
       "</style>\n",
       "<table border=\"1\" class=\"dataframe\">\n",
       "  <thead>\n",
       "    <tr style=\"text-align: right;\">\n",
       "      <th></th>\n",
       "      <th>User ID</th>\n",
       "      <th>Age</th>\n",
       "      <th>EstimatedSalary</th>\n",
       "      <th>Gender_Male</th>\n",
       "    </tr>\n",
       "    <tr>\n",
       "      <th>Purchased</th>\n",
       "      <th></th>\n",
       "      <th></th>\n",
       "      <th></th>\n",
       "      <th></th>\n",
       "    </tr>\n",
       "  </thead>\n",
       "  <tbody>\n",
       "    <tr>\n",
       "      <th>0</th>\n",
       "      <td>257</td>\n",
       "      <td>257</td>\n",
       "      <td>257</td>\n",
       "      <td>257</td>\n",
       "    </tr>\n",
       "    <tr>\n",
       "      <th>1</th>\n",
       "      <td>143</td>\n",
       "      <td>143</td>\n",
       "      <td>143</td>\n",
       "      <td>143</td>\n",
       "    </tr>\n",
       "  </tbody>\n",
       "</table>\n",
       "</div>"
      ],
      "text/plain": [
       "           User ID  Age  EstimatedSalary  Gender_Male\n",
       "Purchased                                            \n",
       "0              257  257              257          257\n",
       "1              143  143              143          143"
      ]
     },
     "execution_count": 249,
     "metadata": {},
     "output_type": "execute_result"
    }
   ],
   "source": [
    "customer.groupby('Purchased').count()"
   ]
  },
  {
   "cell_type": "markdown",
   "id": "5045b881",
   "metadata": {},
   "source": [
    "### 5. Plot the interactions of the ‘Age’ and ‘Gender’ features with the ‘Purchased’ output. \n"
   ]
  },
  {
   "cell_type": "code",
   "execution_count": 269,
   "id": "8737b811",
   "metadata": {},
   "outputs": [
    {
     "name": "stderr",
     "output_type": "stream",
     "text": [
      "/Users/huangjien/opt/anaconda3/lib/python3.9/site-packages/statsmodels/graphics/factorplots.py:130: FutureWarning: In a future version of pandas, a length 1 tuple will be returned when iterating over a groupby with a grouper equal to a list of length 1. Don't supply a list with a single grouper to avoid this warning.\n",
      "  for i, (values, group) in enumerate(plot_data.groupby(['trace'])):\n"
     ]
    },
    {
     "data": {
      "image/png": "[encoded data removed]",
      "text/plain": [
       "<Figure size 432x288 with 1 Axes>"
      ]
     },
     "metadata": {
      "needs_background": "light"
     },
     "output_type": "display_data"
    }
   ],
   "source": [
    "### categorized numerical ages into three different groups\n",
    "def age_category(df):\n",
    "    if df[\"Age\"] <= 20:\n",
    "        return \"1_Young\"\n",
    "    elif df[\"Age\"] > 40:\n",
    "        return \"3_Old\"\n",
    "    else:\n",
    "        return \"2_Middle\"\n",
    "\n",
    "### apply function\n",
    "customer[\"age_category\"] = customer.apply(age_category , axis=1)\n",
    "\n",
    "### plot\n",
    "gend = customer.Gender\n",
    "age_cato = customer.age_category\n",
    "Y = customer.Purchased\n",
    "plot = interaction_plot(x = age_cato, trace = gend, response = Y , xlabel = \"Category of Age\")\n",
    "plt.show()\n"
   ]
  },
  {
   "cell_type": "markdown",
   "id": "3b1828b7",
   "metadata": {},
   "source": [
    "### 6. The following plots show effect of Income and Change in savings on Likelihood of buying a house. Observe the three plots (a, b, c) shown and answer the following questions for each plot:\n",
    "### I. Should the regression equation include the interaction terms (interaction between Income and Average Savings) or not?\n",
    "### II. Give your reasoning as to why or why shouldn’t they be included.\n"
   ]
  },
  {
   "attachments": {
    "image.png": {
     "image/png": "[encoded data removed]"
    }
   },
   "cell_type": "markdown",
   "id": "a2151ba7",
   "metadata": {},
   "source": [
    "![image.png](attachment:image.png)"
   ]
  },
  {
   "cell_type": "markdown",
   "id": "f950c66f",
   "metadata": {},
   "source": [
    "Answer 1:\n",
    "\n",
    "\"Yes\" for (a) and (b)\n",
    "\n",
    "\"No\" for (c)"
   ]
  },
  {
   "cell_type": "markdown",
   "id": "3e62b096",
   "metadata": {},
   "source": [
    "Answer 2:\n",
    "\n",
    "for (a) and (b), we should include the interaction terms, because the slope of each group differs with the increment of average savings, whereas for (c), the two slopes are parallel, which means that including interaction term will not help on prediction.\n"
   ]
  }
 ],
 "metadata": {
  "kernelspec": {
   "display_name": "Python 3 (ipykernel)",
   "language": "python",
   "name": "python3"
  },
  "language_info": {
   "codemirror_mode": {
    "name": "ipython",
    "version": 3
   },
   "file_extension": ".py",
   "mimetype": "text/x-python",
   "name": "python",
   "nbconvert_exporter": "python",
   "pygments_lexer": "ipython3",
   "version": "3.9.7"
  }
 },
 "nbformat": 4,
 "nbformat_minor": 5
}
